{
 "cells": [
  {
   "cell_type": "code",
   "execution_count": 1,
   "metadata": {},
   "outputs": [],
   "source": [
    "# baseball_h2h_predictor_harness.ipynb\n",
    "# Alexis Perumal, Venkat Pinnika, Young You, 1/6/2020\n",
    "# Derived from baseball_predictor_harness.ipynb\n",
    "#\n",
    "# Calls one or more predictor algorithms to predict baseball game outcomes across a range\n",
    "# of dates. This harness captures the outcomes in a Pandas DF and writes it out to a file\n",
    "# for further analysis of effectiveness and hyperparameter tuning."
   ]
  },
  {
   "cell_type": "code",
   "execution_count": 2,
   "metadata": {},
   "outputs": [],
   "source": [
    "# Modules\n",
    "import os\n",
    "import csv\n",
    "import pprint\n",
    "import pandas as pd\n",
    "import pprint\n",
    "import datetime\n",
    "\n",
    "import alexis_h2h_predictor as ah2h"
   ]
  },
  {
   "cell_type": "code",
   "execution_count": 3,
   "metadata": {},
   "outputs": [],
   "source": [
    "outcomes_df = pd.DataFrame(columns=['Season', 'Lookback', 'Num Games',\n",
    "                                  'Num Correct', '% Correct',\n",
    "                                   'Timestamp', 'Run Duration',\n",
    "                                   'Comment'])\n",
    "# outcomes_df"
   ]
  },
  {
   "cell_type": "code",
   "execution_count": 4,
   "metadata": {},
   "outputs": [
    {
     "name": "stdout",
     "output_type": "stream",
     "text": [
      "Dataset loaded with 19437 games, 10 columns, 2010-04-04 - 2017-10-01\n",
      "  Analyzing 2011 season: 2011-03-31 - 2011-09-28, with 5 day lookback.\n",
      "  2020-01-06 22:13:21.850311: Predictions calculated in 0:00:08.683818 hr/min/sec.\n",
      "  Result: 52.5%\n",
      "\n"
     ]
    },
    {
     "data": {
      "text/html": [
       "<div>\n",
       "<style scoped>\n",
       "    .dataframe tbody tr th:only-of-type {\n",
       "        vertical-align: middle;\n",
       "    }\n",
       "\n",
       "    .dataframe tbody tr th {\n",
       "        vertical-align: top;\n",
       "    }\n",
       "\n",
       "    .dataframe thead th {\n",
       "        text-align: right;\n",
       "    }\n",
       "</style>\n",
       "<table border=\"1\" class=\"dataframe\">\n",
       "  <thead>\n",
       "    <tr style=\"text-align: right;\">\n",
       "      <th></th>\n",
       "      <th>Season</th>\n",
       "      <th>Lookback</th>\n",
       "      <th>Num Games</th>\n",
       "      <th>Num Correct</th>\n",
       "      <th>% Correct</th>\n",
       "      <th>Timestamp</th>\n",
       "      <th>Run Duration</th>\n",
       "      <th>Comment</th>\n",
       "    </tr>\n",
       "  </thead>\n",
       "  <tbody>\n",
       "    <tr>\n",
       "      <th>0</th>\n",
       "      <td>2011</td>\n",
       "      <td>5</td>\n",
       "      <td>2429</td>\n",
       "      <td>1275</td>\n",
       "      <td>52.490737</td>\n",
       "      <td>2020-01-06 22:13:12.268324</td>\n",
       "      <td>00:00:09.582556</td>\n",
       "      <td>H2H, FLO fix included.</td>\n",
       "    </tr>\n",
       "  </tbody>\n",
       "</table>\n",
       "</div>"
      ],
      "text/plain": [
       "  Season Lookback Num Games Num Correct  % Correct                  Timestamp  \\\n",
       "0   2011        5      2429        1275  52.490737 2020-01-06 22:13:12.268324   \n",
       "\n",
       "     Run Duration                 Comment  \n",
       "0 00:00:09.582556  H2H, FLO fix included.  "
      ]
     },
     "execution_count": 4,
     "metadata": {},
     "output_type": "execute_result"
    }
   ],
   "source": [
    "for n in [5, ]:\n",
    "    for season in range(2011, 2012):\n",
    "        start_time = datetime.datetime.now()\n",
    "        num_games, num_correct, percent_correct = ah2h.h2h_predictor(n, season)\n",
    "        end_time = datetime.datetime.now()\n",
    "        print(f\"  Result: {round(percent_correct,1)}%\")\n",
    "        print(\"\")\n",
    "\n",
    "        new_row = pd.Series({'Season':season,\n",
    "                               'Lookback':n,\n",
    "                               'Num Games':num_games,\n",
    "                               'Num Correct':num_correct,\n",
    "                               '% Correct':percent_correct,\n",
    "                               'Timestamp':start_time,\n",
    "                               'Run Duration':end_time - start_time,\n",
    "                               'Comment':'H2H, FLO fix included.'})\n",
    "        outcomes_df = outcomes_df.append(new_row, ignore_index=True)\n",
    "    \n",
    "outcomes_df"
   ]
  },
  {
   "cell_type": "code",
   "execution_count": null,
   "metadata": {},
   "outputs": [],
   "source": [
    "path = \"output/\" + str(datetime.datetime.now()).replace(':', '-').replace(' ', '_') + \"_output.csv\"\n",
    "outcomes_df.to_csv(path_or_buf=path)"
   ]
  },
  {
   "cell_type": "code",
   "execution_count": null,
   "metadata": {},
   "outputs": [],
   "source": [
    "outcomes_df"
   ]
  },
  {
   "cell_type": "code",
   "execution_count": null,
   "metadata": {},
   "outputs": [],
   "source": []
  }
 ],
 "metadata": {
  "kernelspec": {
   "display_name": "py365_for_class",
   "language": "python",
   "name": "py365_for_class"
  },
  "language_info": {
   "codemirror_mode": {
    "name": "ipython",
    "version": 3
   },
   "file_extension": ".py",
   "mimetype": "text/x-python",
   "name": "python",
   "nbconvert_exporter": "python",
   "pygments_lexer": "ipython3",
   "version": "3.6.5"
  }
 },
 "nbformat": 4,
 "nbformat_minor": 2
}
