{
 "cells": [
  {
   "cell_type": "code",
   "execution_count": null,
   "metadata": {},
   "outputs": [],
   "source": [
    "# Import Dependencies\n",
    "import pandas as pd\n",
    "# File to Load\n",
    "data_2010 = \"Data/GL2010.csv\"\n",
    "data_2011 = \"Data/GL2011.csv\"\n",
    "data_2012 = \"Data/GL2012.csv\"\n",
    "data_2013 = \"Data/GL2013.csv\"\n",
    "data_2014 = \"Data/GL2014.csv\"\n",
    "data_2015 = \"Data/GL2015.csv\"\n",
    "data_2016 = \"Data/GL2016.csv\"\n",
    "data_2017 = \"Data/GL2017.csv\"\n",
    "df_2010 = pd.read_csv(data_2010)\n",
    "df_2011 = pd.read_csv(data_2011)\n",
    "df_2012 = pd.read_csv(data_2012)\n",
    "df_2013 = pd.read_csv(data_2013)\n",
    "df_2014 = pd.read_csv(data_2014)\n",
    "df_2015 = pd.read_csv(data_2015)\n",
    "df_2016 = pd.read_csv(data_2016)\n",
    "df_2017 = pd.read_csv(data_2017)\n",
    "complete_baseball_data = pd.concat([df_2010, df_2011,df_2012, df_2013,df_2014,\n",
    "                                      df_2015,df_2016,df_2017],ignore_index=True, sort=False)\n",
    "complete_baseball_data.head()"
   ]
  }
 ],
 "metadata": {
  "kernelspec": {
   "display_name": "Python 3",
   "language": "python",
   "name": "python3"
  },
  "language_info": {
   "codemirror_mode": {
    "name": "ipython",
    "version": 3
   },
   "file_extension": ".py",
   "mimetype": "text/x-python",
   "name": "python",
   "nbconvert_exporter": "python",
   "pygments_lexer": "ipython3",
   "version": "3.7.4"
  }
 },
 "nbformat": 4,
 "nbformat_minor": 2
}
